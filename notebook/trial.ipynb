{
 "cells": [
  {
   "cell_type": "code",
   "execution_count": null,
   "metadata": {},
   "outputs": [],
   "source": []
  },
  {
   "cell_type": "code",
   "execution_count": 2,
   "metadata": {},
   "outputs": [
    {
     "name": "stderr",
     "output_type": "stream",
     "text": [
      "usage: ipykernel_launcher.py [-h] [--env ENV]\n",
      "ipykernel_launcher.py: error: unrecognized arguments: --ip=127.0.0.1 --stdin=9003 --control=9001 --hb=9000 --Session.signature_scheme=\"hmac-sha256\" --Session.key=b\"eecb8f03-f59a-43dd-a729-eae071288849\" --shell=9002 --transport=\"tcp\" --iopub=9004 --f=/tmp/tmp-197331wFJ4CdklyWEF.json\n"
     ]
    },
    {
     "ename": "SystemExit",
     "evalue": "2",
     "output_type": "error",
     "traceback": [
      "An exception has occurred, use %tb to see the full traceback.\n",
      "\u001b[0;31mSystemExit\u001b[0m\u001b[0;31m:\u001b[0m 2\n"
     ]
    }
   ],
   "source": [
    "import sys\n",
    "sys.path.append(\"..\")\n",
    "\n",
    "from utils.img import transform\n",
    "from utils.lmdb import LMDBImageDataset, covid_ct_indexer\n",
    "\n",
    "from torchvision.utils import save_image\n",
    "import torch\n",
    "from collections import OrderedDict"
   ]
  },
  {
   "cell_type": "code",
   "execution_count": 2,
   "metadata": {},
   "outputs": [],
   "source": [
    "dataset = LMDBImageDataset(config.COVID_19_TRAIN_LMDB, covid_ct_indexer, transform)"
   ]
  },
  {
   "cell_type": "code",
   "execution_count": 3,
   "metadata": {},
   "outputs": [],
   "source": [
    "lung_raw, lung_targ, med_raw, med_target = dataset[0]"
   ]
  },
  {
   "cell_type": "code",
   "execution_count": 5,
   "metadata": {},
   "outputs": [
    {
     "name": "stdout",
     "output_type": "stream",
     "text": [
      "torch.Size([4, 1, 1024, 1024])\n"
     ]
    }
   ],
   "source": [
    "print(torch.stack([lung_raw, lung_targ, med_raw, med_target]).shape)"
   ]
  },
  {
   "cell_type": "code",
   "execution_count": 15,
   "metadata": {},
   "outputs": [],
   "source": [
    "save_image(torch.stack([lung_raw, lung_targ, med_raw, med_target]), \"sample.png\", normalize=True, value_range=(-1,1))"
   ]
  },
  {
   "cell_type": "code",
   "execution_count": 2,
   "metadata": {},
   "outputs": [],
   "source": [
    "ckpt = torch.load(\"../pretrained/stylegan.pt\")"
   ]
  },
  {
   "cell_type": "code",
   "execution_count": 3,
   "metadata": {},
   "outputs": [
    {
     "data": {
      "text/plain": [
       "odict_keys(['blocks.0.0.weight', 'blocks.0.1.bias', 'blocks.1.conv.0.weight', 'blocks.1.conv.1.bias', 'blocks.1.down_conv.0.kernel', 'blocks.1.down_conv.1.weight', 'blocks.1.down_conv.2.bias', 'blocks.1.skip.0.kernel', 'blocks.1.skip.1.weight', 'blocks.2.conv.0.weight', 'blocks.2.conv.1.bias', 'blocks.2.down_conv.0.kernel', 'blocks.2.down_conv.1.weight', 'blocks.2.down_conv.2.bias', 'blocks.2.skip.0.kernel', 'blocks.2.skip.1.weight', 'blocks.3.conv.0.weight', 'blocks.3.conv.1.bias', 'blocks.3.down_conv.0.kernel', 'blocks.3.down_conv.1.weight', 'blocks.3.down_conv.2.bias', 'blocks.3.skip.0.kernel', 'blocks.3.skip.1.weight', 'blocks.4.conv.0.weight', 'blocks.4.conv.1.bias', 'blocks.4.down_conv.0.kernel', 'blocks.4.down_conv.1.weight', 'blocks.4.down_conv.2.bias', 'blocks.4.skip.0.kernel', 'blocks.4.skip.1.weight', 'blocks.5.conv.0.weight', 'blocks.5.conv.1.bias', 'blocks.5.down_conv.0.kernel', 'blocks.5.down_conv.1.weight', 'blocks.5.down_conv.2.bias', 'blocks.5.skip.0.kernel', 'blocks.5.skip.1.weight', 'blocks.6.conv.0.weight', 'blocks.6.conv.1.bias', 'blocks.6.down_conv.0.kernel', 'blocks.6.down_conv.1.weight', 'blocks.6.down_conv.2.bias', 'blocks.6.skip.0.kernel', 'blocks.6.skip.1.weight', 'blocks.7.conv.0.weight', 'blocks.7.conv.1.bias', 'blocks.7.down_conv.0.kernel', 'blocks.7.down_conv.1.weight', 'blocks.7.down_conv.2.bias', 'blocks.7.skip.0.kernel', 'blocks.7.skip.1.weight', 'blocks.8.conv.0.weight', 'blocks.8.conv.1.bias', 'blocks.8.down_conv.0.kernel', 'blocks.8.down_conv.1.weight', 'blocks.8.down_conv.2.bias', 'blocks.8.skip.0.kernel', 'blocks.8.skip.1.weight', 'final_conv.0.weight', 'final_conv.1.bias', 'final_linear.0.weight', 'final_linear.0.bias', 'final_linear.1.weight', 'final_linear.1.bias'])"
      ]
     },
     "execution_count": 3,
     "metadata": {},
     "output_type": "execute_result"
    }
   ],
   "source": [
    "ckpt[\"d\"].keys()"
   ]
  },
  {
   "cell_type": "code",
   "execution_count": 4,
   "metadata": {},
   "outputs": [],
   "source": [
    "new_d = OrderedDict()"
   ]
  },
  {
   "cell_type": "code",
   "execution_count": 5,
   "metadata": {},
   "outputs": [],
   "source": [
    "for k, v in ckpt[\"d\"].items():\n",
    "    new_k = k\n",
    "    if k == \"final_linear.0.weight\":\n",
    "        new_k = \"final_relu.weight\"\n",
    "    if k == \"final_linear.0.bias\":\n",
    "        new_k = \"final_relu.bias\"\n",
    "    if k == \"final_linear.1.weight\":\n",
    "        new_k = \"final_linear.weight\"\n",
    "    if k == \"final_linear.1.bias\":\n",
    "        new_k = \"final_linear.bias\"\n",
    "    new_d[new_k] = v"
   ]
  },
  {
   "cell_type": "code",
   "execution_count": 6,
   "metadata": {},
   "outputs": [],
   "source": [
    "ckpt[\"d\"] = new_d"
   ]
  },
  {
   "cell_type": "code",
   "execution_count": 7,
   "metadata": {},
   "outputs": [],
   "source": [
    "torch.save(ckpt, \"../pretrained/stylegan_new.pt\")"
   ]
  },
  {
   "cell_type": "code",
   "execution_count": null,
   "metadata": {},
   "outputs": [],
   "source": []
  }
 ],
 "metadata": {
  "interpreter": {
   "hash": "3b618a178df51cfec2ec640b77a792ef0970979bf4c4e7ae372219fa74e0d044"
  },
  "kernelspec": {
   "display_name": "Python 3.9.9 64-bit ('fyp': conda)",
   "language": "python",
   "name": "python3"
  },
  "language_info": {
   "codemirror_mode": {
    "name": "ipython",
    "version": 3
   },
   "file_extension": ".py",
   "mimetype": "text/x-python",
   "name": "python",
   "nbconvert_exporter": "python",
   "pygments_lexer": "ipython3",
   "version": "3.8.12"
  },
  "orig_nbformat": 4
 },
 "nbformat": 4,
 "nbformat_minor": 2
}
