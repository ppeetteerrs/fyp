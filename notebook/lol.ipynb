{
 "cells": [
  {
   "cell_type": "code",
   "execution_count": 2,
   "metadata": {},
   "outputs": [],
   "source": [
    "import sys\n",
    "sys.path.append(\"..\")\n",
    "\n",
    "from utils.dataset import BinaryImageDataset, MulticlassImageDataset\n",
    "from pathlib import Path\n",
    "from utils.config import CONFIG"
   ]
  },
  {
   "cell_type": "code",
   "execution_count": 3,
   "metadata": {},
   "outputs": [
    {
     "name": "stderr",
     "output_type": "stream",
     "text": [
      "Loading positive images: 0it [00:00, ?it/s]\n",
      "Loading negative images: 0it [00:00, ?it/s]\n"
     ]
    },
    {
     "ename": "RuntimeError",
     "evalue": "stack expects a non-empty TensorList",
     "output_type": "error",
     "traceback": [
      "\u001b[0;31m---------------------------------------------------------------------------\u001b[0m",
      "\u001b[0;31mRuntimeError\u001b[0m                              Traceback (most recent call last)",
      "\u001b[0;32m/tmp/ipykernel_15566/3638011931.py\u001b[0m in \u001b[0;36m<module>\u001b[0;34m\u001b[0m\n\u001b[0;32m----> 1\u001b[0;31m train_dataset = BinaryImageDataset(\n\u001b[0m\u001b[1;32m      2\u001b[0m             [\n\u001b[1;32m      3\u001b[0m                 \u001b[0mCONFIG\u001b[0m\u001b[0;34m.\u001b[0m\u001b[0mPROJECT_DIR\u001b[0m \u001b[0;34m/\u001b[0m \u001b[0;34m\"input/data\"\u001b[0m \u001b[0;34m/\u001b[0m \u001b[0mitem\u001b[0m \u001b[0;34m/\u001b[0m \u001b[0;34m\"train\"\u001b[0m\u001b[0;34m\u001b[0m\u001b[0;34m\u001b[0m\u001b[0m\n\u001b[1;32m      4\u001b[0m                 \u001b[0;32mfor\u001b[0m \u001b[0mitem\u001b[0m \u001b[0;32min\u001b[0m \u001b[0mCONFIG\u001b[0m\u001b[0;34m.\u001b[0m\u001b[0mEFF_POSITIVE\u001b[0m\u001b[0;34m.\u001b[0m\u001b[0msplit\u001b[0m\u001b[0;34m(\u001b[0m\u001b[0;34m\",\"\u001b[0m\u001b[0;34m)\u001b[0m\u001b[0;34m\u001b[0m\u001b[0;34m\u001b[0m\u001b[0m\n\u001b[1;32m      5\u001b[0m             ],\n",
      "\u001b[0;32m/workspace/notebook/../utils/dataset.py\u001b[0m in \u001b[0;36m__init__\u001b[0;34m(self, positives, negatives, pattern)\u001b[0m\n\u001b[1;32m     29\u001b[0m         )\n\u001b[1;32m     30\u001b[0m \u001b[0;34m\u001b[0m\u001b[0m\n\u001b[0;32m---> 31\u001b[0;31m         images = torch.stack(\n\u001b[0m\u001b[1;32m     32\u001b[0m             list(\n\u001b[1;32m     33\u001b[0m                 chain(\n",
      "\u001b[0;31mRuntimeError\u001b[0m: stack expects a non-empty TensorList"
     ]
    }
   ],
   "source": [
    "train_dataset = BinaryImageDataset(\n",
    "    [\n",
    "        CONFIG.PROJECT_DIR / \"input/data\" / item / \"train\"\n",
    "        for item in CONFIG.EFF_POSITIVE.split(\",\")\n",
    "    ],\n",
    "    [\n",
    "        CONFIG.PROJECT_DIR / \"input/data\" / item / \"train\"\n",
    "        for item in CONFIG.EFF_POSITIVE.split(\",\")\n",
    "    ],\n",
    ")\n"
   ]
  },
  {
   "cell_type": "code",
   "execution_count": 3,
   "metadata": {},
   "outputs": [
    {
     "name": "stderr",
     "output_type": "stream",
     "text": [
      "Loading images from each class: 100%|██████████| 1/1 [00:00<00:00,  1.11it/s]\n"
     ]
    }
   ],
   "source": [
    "dataset = MulticlassImageDataset([\"../input/data\"], [\"covid_ct_lung_train\"])"
   ]
  },
  {
   "cell_type": "code",
   "execution_count": 4,
   "metadata": {},
   "outputs": [
    {
     "data": {
      "text/plain": [
       "{'covid_ct_lung_train': tensor([[[-0.2078, -0.2000, -0.1922,  ..., -0.0118,  0.0510,  0.1608],\n",
       "          [-0.2157, -0.2000, -0.1922,  ..., -0.0118,  0.0353,  0.1451],\n",
       "          [-0.2157, -0.2000, -0.1922,  ..., -0.0118,  0.0353,  0.1294],\n",
       "          ...,\n",
       "          [-0.5529, -0.4980, -0.4510,  ..., -0.0510, -0.1137, -0.1216],\n",
       "          [-0.5529, -0.5059, -0.4588,  ..., -0.0353, -0.0980, -0.1216],\n",
       "          [-0.5529, -0.4980, -0.4588,  ..., -0.0196, -0.0824, -0.1216]]],\n",
       "        device='cuda:0')}"
      ]
     },
     "execution_count": 4,
     "metadata": {},
     "output_type": "execute_result"
    }
   ],
   "source": [
    "dataset[0]"
   ]
  },
  {
   "cell_type": "code",
   "execution_count": 1,
   "metadata": {},
   "outputs": [
    {
     "name": "stdout",
     "output_type": "stream",
     "text": [
      "hi\n"
     ]
    }
   ],
   "source": [
    "print(\"hi\")"
   ]
  },
  {
   "cell_type": "code",
   "execution_count": null,
   "metadata": {},
   "outputs": [],
   "source": []
  }
 ],
 "metadata": {
  "interpreter": {
   "hash": "858ce48b5a72ba8b33b9012227ea8037c0c6bdabb5ea7827c4c9a223caf0062e"
  },
  "kernelspec": {
   "display_name": "Python 3.8.12 ('base')",
   "language": "python",
   "name": "python3"
  },
  "language_info": {
   "codemirror_mode": {
    "name": "ipython",
    "version": 3
   },
   "file_extension": ".py",
   "mimetype": "text/x-python",
   "name": "python",
   "nbconvert_exporter": "python",
   "pygments_lexer": "ipython3",
   "version": "3.8.12"
  },
  "orig_nbformat": 4
 },
 "nbformat": 4,
 "nbformat_minor": 2
}
