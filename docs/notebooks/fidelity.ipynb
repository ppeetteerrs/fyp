{
 "cells": [
  {
   "cell_type": "code",
   "execution_count": 1,
   "metadata": {},
   "outputs": [],
   "source": [
    "import sys\n",
    "sys.path.append(\"../..\")\n",
    "\n",
    "from torch_fidelity import calculate_metrics, GenerativeModelModuleWrapper\n",
    "from utils.dataset import LMDBUint8ImageDataset\n",
    "covid_ct = LMDBUint8ImageDataset(\"../../output/covid_ct/lmdb\", names=\"body\")\n",
    "deepdrr = LMDBUint8ImageDataset(\"../../output/covid_ct/lmdb\", names=\"drr\")\n",
    "brixia = LMDBUint8ImageDataset(\"../../output/brixia/lmdb\")"
   ]
  },
  {
   "cell_type": "code",
   "execution_count": 9,
   "metadata": {},
   "outputs": [
    {
     "name": "stderr",
     "output_type": "stream",
     "text": [
      "Creating feature extractor \"inception-v3-compat\" with features ['2048', 'logits_unbiased']\n",
      "Extracting features from input1\n",
      "Looking for samples non-recursivelty in \"../../output/stylegan_gen/generated\" with extensions png,jpg,jpeg\n",
      "Found 2000 samples\n",
      "Processing samples                                                           \n",
      "Extracting features from input2\n",
      "Processing samples                                                         \n",
      "Inception Score: 2.040317642077926 ± 0.11609361523612943\n",
      "Frechet Inception Distance: 137.19014822395283\n",
      "Kernel Inception Distance: 0.148364752787068 ± 0.005266723090811515              \n"
     ]
    },
    {
     "data": {
      "text/plain": [
       "{'inception_score_mean': 2.040317642077926,\n",
       " 'inception_score_std': 0.11609361523612943,\n",
       " 'frechet_inception_distance': 137.19014822395283,\n",
       " 'kernel_inception_distance_mean': 0.148364752787068,\n",
       " 'kernel_inception_distance_std': 0.005266723090811515}"
      ]
     },
     "execution_count": 9,
     "metadata": {},
     "output_type": "execute_result"
    }
   ],
   "source": [
    "calculate_metrics(input1=\"../../output/stylegan_gen/generated\", input2=covid_ct, cuda=True, isc=True, fid=True, kid=True, kid_subset_size=300)"
   ]
  },
  {
   "cell_type": "code",
   "execution_count": 4,
   "metadata": {},
   "outputs": [
    {
     "name": "stderr",
     "output_type": "stream",
     "text": [
      "Creating feature extractor \"inception-v3-compat\" with features ['logits_unbiased', '2048']\n",
      "Extracting features from input1\n",
      "Processing samples                                                         \n",
      "Extracting features from input2\n",
      "Processing samples                                                         \n",
      "Inception Score: 1.9624951480883692 ± 0.1122413688879312\n",
      "Frechet Inception Distance: 143.9480552373103\n",
      "Kernel Inception Distance: 0.17696492004598663 ± 0.004469094810078957            \n"
     ]
    },
    {
     "data": {
      "text/plain": [
       "{'inception_score_mean': 1.9624951480883692,\n",
       " 'inception_score_std': 0.1122413688879312,\n",
       " 'frechet_inception_distance': 143.9480552373103,\n",
       " 'kernel_inception_distance_mean': 0.17696492004598663,\n",
       " 'kernel_inception_distance_std': 0.004469094810078957}"
      ]
     },
     "execution_count": 4,
     "metadata": {},
     "output_type": "execute_result"
    }
   ],
   "source": [
    "calculate_metrics(input1=deepdrr, input2=covid_ct, cuda=True, isc=True, fid=True, kid=True, kid_subset_size=300)"
   ]
  },
  {
   "cell_type": "code",
   "execution_count": null,
   "metadata": {},
   "outputs": [],
   "source": []
  }
 ],
 "metadata": {
  "interpreter": {
   "hash": "2a2f233191b82b47233b539c7573f64d79f81d06fd7b9f837f44e82bffd665fe"
  },
  "kernelspec": {
   "display_name": "Python 3.8.12 ('user')",
   "language": "python",
   "name": "python3"
  },
  "language_info": {
   "codemirror_mode": {
    "name": "ipython",
    "version": 3
   },
   "file_extension": ".py",
   "mimetype": "text/x-python",
   "name": "python",
   "nbconvert_exporter": "python",
   "pygments_lexer": "ipython3",
   "version": "3.8.12"
  },
  "orig_nbformat": 4
 },
 "nbformat": 4,
 "nbformat_minor": 2
}
