{
 "cells": [
  {
   "cell_type": "code",
   "execution_count": 5,
   "metadata": {},
   "outputs": [],
   "source": [
    "import sys\n",
    "sys.path.append(\"../..\")\n",
    "\n",
    "from torch_fidelity import calculate_metrics\n",
    "from tqdm import tqdm\n",
    "import pandas as pd\n",
    "from utils.dataset import LMDBUint8ImageDataset\n",
    "covid_ct = LMDBUint8ImageDataset(\"../../output/covid_ct/lmdb\", names=\"body\")\n",
    "deepdrr = LMDBUint8ImageDataset(\"../../output/covid_ct/lmdb\", names=\"drr\")\n",
    "brixia = LMDBUint8ImageDataset(\"../../output/brixia/lmdb\")\n",
    "\n",
    "inputs = [covid_ct, deepdrr, \"../../output/psp/generated/out\", \"../../output/psp_finetune/generated/out\"]\n",
    "benchmark = brixia"
   ]
  },
  {
   "cell_type": "code",
   "execution_count": 25,
   "metadata": {},
   "outputs": [
    {
     "name": "stderr",
     "output_type": "stream",
     "text": [
      "Creating feature extractor \"inception-v3-compat\" with features ['logits_unbiased', '2048']\n",
      "Extracting features from input1\n",
      "Looking for samples non-recursivelty in \"../../output/psp_finetune_no_id_soft/generated/out\" with extensions png,jpg,jpeg\n",
      "Found 735 samples\n",
      "Processing samples                                                         \n",
      "Extracting features from input2\n",
      "Processing samples                                                         \n",
      "Inception Score: 1.4690308057157235 ± 0.08145291371727156\n"
     ]
    }
   ],
   "source": [
    "calculate_metrics(input1=\"../../output/psp_finetune_no_id_soft/generated/out\", input2=covid_ct, cuda=True, isc=True, fid=True, kid=True, kid_subset_size=300)\n"
   ]
  },
  {
   "cell_type": "code",
   "execution_count": 24,
   "metadata": {},
   "outputs": [
    {
     "name": "stderr",
     "output_type": "stream",
     "text": [
      "Creating feature extractor \"inception-v3-compat\" with features ['logits_unbiased', '2048']\n",
      "Extracting features from input1\n",
      "Looking for samples non-recursivelty in \"../../output/psp_finetune_no_id/generated/out\" with extensions png,jpg,jpeg\n",
      "Found 735 samples\n",
      "Processing samples                                                         \n",
      "Extracting features from input2\n",
      "Processing samples                                                         \n",
      "Inception Score: 1.5353836162012948 ± 0.09213743959166089\n",
      "Frechet Inception Distance: 149.89845915103362\n",
      "Kernel Inception Distance: 0.18321146477842803 ± 0.00424377278461138             \n"
     ]
    },
    {
     "data": {
      "text/plain": [
       "{'inception_score_mean': 1.5353836162012948,\n",
       " 'inception_score_std': 0.09213743959166089,\n",
       " 'frechet_inception_distance': 149.89845915103362,\n",
       " 'kernel_inception_distance_mean': 0.18321146477842803,\n",
       " 'kernel_inception_distance_std': 0.00424377278461138}"
      ]
     },
     "execution_count": 24,
     "metadata": {},
     "output_type": "execute_result"
    }
   ],
   "source": [
    "calculate_metrics(input1=\"../../output/psp_finetune_no_id_soft_l1/generated/out\", input2=covid_ct, cuda=True, isc=True, fid=True, kid=True, kid_subset_size=300)"
   ]
  },
  {
   "cell_type": "code",
   "execution_count": null,
   "metadata": {},
   "outputs": [],
   "source": []
  }
 ],
 "metadata": {
  "interpreter": {
   "hash": "2a2f233191b82b47233b539c7573f64d79f81d06fd7b9f837f44e82bffd665fe"
  },
  "kernelspec": {
   "display_name": "Python 3.8.12 ('user')",
   "language": "python",
   "name": "python3"
  },
  "language_info": {
   "codemirror_mode": {
    "name": "ipython",
    "version": 3
   },
   "file_extension": ".py",
   "mimetype": "text/x-python",
   "name": "python",
   "nbconvert_exporter": "python",
   "pygments_lexer": "ipython3",
   "version": "3.8.12"
  },
  "orig_nbformat": 4
 },
 "nbformat": 4,
 "nbformat_minor": 2
}
