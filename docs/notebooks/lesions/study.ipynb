{
 "cells": [
  {
   "cell_type": "code",
   "execution_count": 7,
   "metadata": {},
   "outputs": [
    {
     "name": "stdout",
     "output_type": "stream",
     "text": [
      "(136, 512, 512)\n",
      "(136, 512, 512)\n"
     ]
    }
   ],
   "source": [
    "import sys\n",
    "sys.path.append(\"../../../\")\n",
    "\n",
    "import numpy as np\n",
    "import pandas as pd\n",
    "import nibabel as nib\n",
    "from utils.plot import plot_volume\n",
    "from utils.dicom import read_dcm\n",
    "\n",
    "df = pd.read_pickle(\"../../../output/covid_ct/paths.pkl\")\n",
    "med_paths = df[df[\"Subject\"] == \"31\"][\"med\"].iloc[0]\n",
    "scan = read_dcm(med_paths, spacing=None)[1]\n",
    "mask = nib.load(\"../../../output/lesions/S31.nii.gz\").get_fdata()\n",
    "mask = np.transpose(mask, (2,1,0))[::-1,:,:]\n",
    "print(scan.shape)\n",
    "print(mask.shape)"
   ]
  }
 ],
 "metadata": {
  "interpreter": {
   "hash": "2a2f233191b82b47233b539c7573f64d79f81d06fd7b9f837f44e82bffd665fe"
  },
  "kernelspec": {
   "display_name": "Python 3.8.12 ('user')",
   "language": "python",
   "name": "python3"
  },
  "language_info": {
   "codemirror_mode": {
    "name": "ipython",
    "version": 3
   },
   "file_extension": ".py",
   "mimetype": "text/x-python",
   "name": "python",
   "nbconvert_exporter": "python",
   "pygments_lexer": "ipython3",
   "version": "3.8.12"
  },
  "orig_nbformat": 4
 },
 "nbformat": 4,
 "nbformat_minor": 2
}
