{
 "cells": [
  {
   "cell_type": "code",
   "execution_count": 1,
   "metadata": {},
   "outputs": [
    {
     "name": "stderr",
     "output_type": "stream",
     "text": [
      "Loading images from each class: 100%|██████████| 5/5 [00:04<00:00,  1.17it/s]\n"
     ]
    }
   ],
   "source": [
    "from utils.config import CONFIG\n",
    "CONFIG.PSP_USE_MEAN = True\n",
    "import torch\n",
    "from torch.utils.data import DataLoader\n",
    "from torchvision.utils import save_image\n",
    "from tqdm import tqdm\n",
    "from psp.pSp_pure import pSp\n",
    "from utils.dataset import MulticlassImageDataset\n",
    "from pathlib import Path\n",
    "output_dir = Path(\"output/paper/vs_drr\")\n",
    "output_dir.mkdir(parents=True, exist_ok=True)\n",
    "dataset = MulticlassImageDataset(\n",
    "    [\"input/data/covid_ct_pneumonia/train\"],\n",
    "    [\"lung\", \"localizer\", \"bones\", \"drr\", \"soft\"],\n",
    ")\n",
    "dataloader = DataLoader(\n",
    "    dataset,\n",
    "    batch_size=1,\n",
    "    shuffle=False,\n",
    ")"
   ]
  },
  {
   "cell_type": "code",
   "execution_count": 2,
   "metadata": {},
   "outputs": [],
   "source": [
    "ckpt0 = torch.load(\"output/psp_pure_pneumonia_chosen_softer/checkpoint/160000.pt\", map_location=\"cuda:0\")\n",
    "net0 = pSp(ckpt0).to(\"cuda:0\")\n",
    "net0.latent_avg = net0.latent_avg.to(\"cuda:0\") if net0.latent_avg is not None else None\n",
    "net0.eval();"
   ]
  },
  {
   "cell_type": "code",
   "execution_count": 3,
   "metadata": {},
   "outputs": [
    {
     "name": "stderr",
     "output_type": "stream",
     "text": [
      "100%|██████████| 642/642 [00:55<00:00, 11.56it/s]\n"
     ]
    }
   ],
   "source": [
    "for idx, batch in tqdm(enumerate(dataloader), total=len(dataloader)):\n",
    "    with torch.no_grad():\n",
    "        img_in = batch[\"lung\"].to(\"cuda:0\")\n",
    "        img_out0, _  = net0(img_in.to(\"cuda:0\"))\n",
    "        img_out0 = img_out0.to(\"cuda:0\")\n",
    "    img = torch.concat([img_in,batch[\"drr\"].to(\"cuda:0\"),img_out0], dim=3)\n",
    "    save_image(\n",
    "        img,\n",
    "        str(output_dir / f\"{str(idx).zfill(6)}.png\"),\n",
    "        nrow=1,\n",
    "        normalize=True,\n",
    "        value_range=(-1, 1),\n",
    "    )"
   ]
  },
  {
   "cell_type": "code",
   "execution_count": null,
   "metadata": {},
   "outputs": [],
   "source": []
  }
 ],
 "metadata": {
  "interpreter": {
   "hash": "2a2f233191b82b47233b539c7573f64d79f81d06fd7b9f837f44e82bffd665fe"
  },
  "kernelspec": {
   "display_name": "Python 3.8.12 ('user')",
   "language": "python",
   "name": "python3"
  },
  "language_info": {
   "codemirror_mode": {
    "name": "ipython",
    "version": 3
   },
   "file_extension": ".py",
   "mimetype": "text/x-python",
   "name": "python",
   "nbconvert_exporter": "python",
   "pygments_lexer": "ipython3",
   "version": "3.8.12"
  },
  "orig_nbformat": 4
 },
 "nbformat": 4,
 "nbformat_minor": 2
}
